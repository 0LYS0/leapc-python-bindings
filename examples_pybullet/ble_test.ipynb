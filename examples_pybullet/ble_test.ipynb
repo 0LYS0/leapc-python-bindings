{
 "cells": [
  {
   "cell_type": "code",
   "execution_count": 1,
   "metadata": {},
   "outputs": [],
   "source": [
    "%load_ext autoreload\n",
    "%autoreload 2\n",
    "    \n",
    "from communication.bluetooth import *"
   ]
  },
  {
   "cell_type": "code",
   "execution_count": null,
   "metadata": {},
   "outputs": [],
   "source": [
    "esp32 = ESP32()"
   ]
  },
  {
   "cell_type": "code",
   "execution_count": null,
   "metadata": {},
   "outputs": [],
   "source": [
    "await esp32.async_connect()"
   ]
  },
  {
   "cell_type": "code",
   "execution_count": null,
   "metadata": {},
   "outputs": [],
   "source": [
    "await esp32.async_send_command(\"200,200,200,200,200\")"
   ]
  },
  {
   "cell_type": "code",
   "execution_count": null,
   "metadata": {},
   "outputs": [],
   "source": [
    "await esp32.async_send_command(\"0,0,0,0,0\")"
   ]
  },
  {
   "cell_type": "code",
   "execution_count": null,
   "metadata": {},
   "outputs": [],
   "source": [
    "# await esp32.async_disconnect()"
   ]
  },
  {
   "cell_type": "code",
   "execution_count": 2,
   "metadata": {},
   "outputs": [],
   "source": [
    "fsr32 = ESP32(device_name=\"MAR9\", write_char_uuid=\"d162efba-143b-4535-9f2d-cf481f07428e\", ble_uuid=\"e4de81ee-e12c-421f-98e7-060e0504f78c\")"
   ]
  },
  {
   "cell_type": "code",
   "execution_count": 3,
   "metadata": {},
   "outputs": [
    {
     "name": "stdout",
     "output_type": "stream",
     "text": [
      "Found device: DC:54:75:D7:FA:E6: MAR9\n",
      "Connected to: MAR9\n"
     ]
    }
   ],
   "source": [
    "await fsr32.async_connect()"
   ]
  },
  {
   "cell_type": "code",
   "execution_count": 4,
   "metadata": {},
   "outputs": [
    {
     "name": "stdout",
     "output_type": "stream",
     "text": [
      "bytearray(b'153,10,255,56,6,')\n",
      "bytearray(b'153,9,255,54,4,')\n",
      "bytearray(b'148,11,255,56,6,')\n",
      "bytearray(b'155,10,255,56,5,')\n",
      "bytearray(b'148,9,255,55,5,')\n",
      "bytearray(b'153,9,255,55,6,')\n",
      "bytearray(b'154,9,255,54,5,')\n",
      "bytearray(b'149,10,255,56,5,')\n",
      "bytearray(b'156,9,255,57,5,')\n",
      "bytearray(b'148,9,255,55,5,')\n",
      "bytearray(b'154,10,255,55,5,')\n",
      "bytearray(b'154,10,255,56,5,')\n",
      "bytearray(b'156,9,255,57,2,')\n",
      "bytearray(b'154,8,255,57,3,')\n",
      "bytearray(b'143,9,255,58,5,')\n",
      "bytearray(b'158,9,255,57,4,')\n",
      "bytearray(b'144,7,255,57,3,')\n",
      "bytearray(b'156,11,255,58,6,')\n",
      "bytearray(b'156,8,255,57,5,')\n",
      "bytearray(b'144,10,255,57,7,')\n",
      "bytearray(b'160,10,255,57,4,')\n",
      "bytearray(b'144,9,255,55,2,')\n",
      "bytearray(b'152,10,255,58,5,')\n"
     ]
    },
    {
     "ename": "CancelledError",
     "evalue": "",
     "output_type": "error",
     "traceback": [
      "\u001b[1;31m---------------------------------------------------------------------------\u001b[0m",
      "\u001b[1;31mCancelledError\u001b[0m                            Traceback (most recent call last)",
      "Cell \u001b[1;32mIn[4], line 3\u001b[0m\n\u001b[0;32m      1\u001b[0m \u001b[38;5;28;01mwhile\u001b[39;00m \u001b[38;5;28;01mTrue\u001b[39;00m:\n\u001b[0;32m      2\u001b[0m     \u001b[38;5;28;01mawait\u001b[39;00m fsr32\u001b[38;5;241m.\u001b[39masync_request_info()\n\u001b[1;32m----> 3\u001b[0m     \u001b[38;5;28mprint\u001b[39m(\u001b[38;5;28;01mawait\u001b[39;00m fsr32\u001b[38;5;241m.\u001b[39masync_read_data())\n",
      "File \u001b[1;32mc:\\leapc-python-bindings\\examples_pybullet\\communication\\bluetooth.py:68\u001b[0m, in \u001b[0;36mESP32.async_read_data\u001b[1;34m(self)\u001b[0m\n\u001b[0;32m     67\u001b[0m \u001b[38;5;28;01masync\u001b[39;00m \u001b[38;5;28;01mdef\u001b[39;00m\u001b[38;5;250m \u001b[39m\u001b[38;5;21masync_read_data\u001b[39m(\u001b[38;5;28mself\u001b[39m):\n\u001b[1;32m---> 68\u001b[0m     \u001b[38;5;28;01mreturn\u001b[39;00m \u001b[38;5;28;01mawait\u001b[39;00m \u001b[38;5;28mself\u001b[39m\u001b[38;5;241m.\u001b[39mclient\u001b[38;5;241m.\u001b[39mread_gatt_char(\u001b[38;5;28mself\u001b[39m\u001b[38;5;241m.\u001b[39mwrite_char_uuid)\n",
      "File \u001b[1;32mc:\\Users\\hsjung02\\AppData\\Local\\miniconda3\\envs\\robothand\\lib\\site-packages\\bleak\\__init__.py:721\u001b[0m, in \u001b[0;36mBleakClient.read_gatt_char\u001b[1;34m(self, char_specifier, **kwargs)\u001b[0m\n\u001b[0;32m    703\u001b[0m \u001b[38;5;28;01masync\u001b[39;00m \u001b[38;5;28;01mdef\u001b[39;00m\u001b[38;5;250m \u001b[39m\u001b[38;5;21mread_gatt_char\u001b[39m(\n\u001b[0;32m    704\u001b[0m     \u001b[38;5;28mself\u001b[39m,\n\u001b[0;32m    705\u001b[0m     char_specifier: Union[BleakGATTCharacteristic, \u001b[38;5;28mint\u001b[39m, \u001b[38;5;28mstr\u001b[39m, uuid\u001b[38;5;241m.\u001b[39mUUID],\n\u001b[0;32m    706\u001b[0m     \u001b[38;5;241m*\u001b[39m\u001b[38;5;241m*\u001b[39mkwargs,\n\u001b[0;32m    707\u001b[0m ) \u001b[38;5;241m-\u001b[39m\u001b[38;5;241m>\u001b[39m \u001b[38;5;28mbytearray\u001b[39m:\n\u001b[0;32m    708\u001b[0m \u001b[38;5;250m    \u001b[39m\u001b[38;5;124;03m\"\"\"\u001b[39;00m\n\u001b[0;32m    709\u001b[0m \u001b[38;5;124;03m    Perform read operation on the specified GATT characteristic.\u001b[39;00m\n\u001b[0;32m    710\u001b[0m \n\u001b[1;32m   (...)\u001b[0m\n\u001b[0;32m    719\u001b[0m \n\u001b[0;32m    720\u001b[0m \u001b[38;5;124;03m    \"\"\"\u001b[39;00m\n\u001b[1;32m--> 721\u001b[0m     \u001b[38;5;28;01mreturn\u001b[39;00m \u001b[38;5;28;01mawait\u001b[39;00m \u001b[38;5;28mself\u001b[39m\u001b[38;5;241m.\u001b[39m_backend\u001b[38;5;241m.\u001b[39mread_gatt_char(char_specifier, \u001b[38;5;241m*\u001b[39m\u001b[38;5;241m*\u001b[39mkwargs)\n",
      "File \u001b[1;32mc:\\Users\\hsjung02\\AppData\\Local\\miniconda3\\envs\\robothand\\lib\\site-packages\\bleak\\backends\\winrt\\client.py:858\u001b[0m, in \u001b[0;36mBleakClientWinRT.read_gatt_char\u001b[1;34m(self, char_specifier, **kwargs)\u001b[0m\n\u001b[0;32m    853\u001b[0m \u001b[38;5;28;01mif\u001b[39;00m \u001b[38;5;129;01mnot\u001b[39;00m characteristic:\n\u001b[0;32m    854\u001b[0m     \u001b[38;5;28;01mraise\u001b[39;00m BleakCharacteristicNotFoundError(char_specifier)\n\u001b[0;32m    856\u001b[0m value \u001b[38;5;241m=\u001b[39m \u001b[38;5;28mbytearray\u001b[39m(\n\u001b[0;32m    857\u001b[0m     _ensure_success(\n\u001b[1;32m--> 858\u001b[0m         \u001b[38;5;28;01mawait\u001b[39;00m characteristic\u001b[38;5;241m.\u001b[39mobj\u001b[38;5;241m.\u001b[39mread_value_async(\n\u001b[0;32m    859\u001b[0m             BluetoothCacheMode\u001b[38;5;241m.\u001b[39mCACHED\n\u001b[0;32m    860\u001b[0m             \u001b[38;5;28;01mif\u001b[39;00m use_cached\n\u001b[0;32m    861\u001b[0m             \u001b[38;5;28;01melse\u001b[39;00m BluetoothCacheMode\u001b[38;5;241m.\u001b[39mUNCACHED\n\u001b[0;32m    862\u001b[0m         ),\n\u001b[0;32m    863\u001b[0m         \u001b[38;5;124m\"\u001b[39m\u001b[38;5;124mvalue\u001b[39m\u001b[38;5;124m\"\u001b[39m,\n\u001b[0;32m    864\u001b[0m         \u001b[38;5;124mf\u001b[39m\u001b[38;5;124m\"\u001b[39m\u001b[38;5;124mCould not read characteristic handle \u001b[39m\u001b[38;5;132;01m{\u001b[39;00mcharacteristic\u001b[38;5;241m.\u001b[39mhandle\u001b[38;5;132;01m}\u001b[39;00m\u001b[38;5;124m\"\u001b[39m,\n\u001b[0;32m    865\u001b[0m     )\n\u001b[0;32m    866\u001b[0m )\n\u001b[0;32m    868\u001b[0m logger\u001b[38;5;241m.\u001b[39mdebug(\u001b[38;5;124m\"\u001b[39m\u001b[38;5;124mRead Characteristic \u001b[39m\u001b[38;5;132;01m%04X\u001b[39;00m\u001b[38;5;124m : \u001b[39m\u001b[38;5;132;01m%s\u001b[39;00m\u001b[38;5;124m\"\u001b[39m, characteristic\u001b[38;5;241m.\u001b[39mhandle, value)\n\u001b[0;32m    870\u001b[0m \u001b[38;5;28;01mreturn\u001b[39;00m value\n",
      "\u001b[1;31mCancelledError\u001b[0m: "
     ]
    }
   ],
   "source": [
    "while True:\n",
    "    await fsr32.async_request_info()\n",
    "    print(await fsr32.async_read_data())"
   ]
  },
  {
   "cell_type": "code",
   "execution_count": null,
   "metadata": {},
   "outputs": [],
   "source": []
  }
 ],
 "metadata": {
  "kernelspec": {
   "display_name": "robothand",
   "language": "python",
   "name": "python3"
  },
  "language_info": {
   "codemirror_mode": {
    "name": "ipython",
    "version": 3
   },
   "file_extension": ".py",
   "mimetype": "text/x-python",
   "name": "python",
   "nbconvert_exporter": "python",
   "pygments_lexer": "ipython3",
   "version": "3.10.16"
  }
 },
 "nbformat": 4,
 "nbformat_minor": 4
}
